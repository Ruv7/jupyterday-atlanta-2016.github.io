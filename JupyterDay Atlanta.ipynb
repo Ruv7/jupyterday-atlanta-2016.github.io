{
 "cells": [
  {
   "cell_type": "markdown",
   "metadata": {},
   "source": [
    "<link rel=\"icon\" type=\"image/png\" href=\"https://jupyter.org/favicon.ico\" />\n",
    "\n",
    "<div class=\"row\">\n",
    "    <div class=\"col-md-9\">\n",
    "        <h1 style=\"font-size: 4rem; font-weight: 400;\">\n",
    "            JupyterDay Atlanta 2016</h1>\n",
    "        <h2 style=\"font-weight: 100\">August 13</h2>\n",
    "    </div>\n",
    "    <div class=\"col-md-3\" style=\"margin: 2rem 0 0 0;\">\n",
    "        <a href=\"https://github.com/jupyterday-atlanta-2016\"\n",
    "            style=\"text-decoration: none;\">\n",
    "           <img src=\"https://octodex.github.com/images/baracktocat.jpg\" \n",
    "               class=\"pull-left\"\n",
    "               style=\"width:4rem; margin: 0 1rem 0 0;\"/>\n",
    "           <p style=\"vertical-align: center; font-weight: 200; margin: 0 5px 0 10px;\">\n",
    "               JupyterDay Atlanta<br/>\n",
    "               on Github\n",
    "           </p>\n",
    "        </a>\n",
    "    </div>\n",
    "</div>\n",
    "\n",
    "<hr/>\n",
    "\n",
    "<div class=\"row\">\n",
    "    <div class=\"col-md-9\">\n",
    "        <a href=\"http://gtri.gatech.edu/conference-center\"\n",
    "            style=\"text-decoration: none;  font-weight: 300;\">\n",
    "          Georgia Tech Research Institute <br/> Conference Center\n",
    "        </a>\n",
    "    </div>\n",
    "    <div class=\"col-md-3\">\n",
    "        <a href=\"https://goo.gl/maps/dr67DNbf4Y42\"\n",
    "            style=\"text-decoration: none;  font-weight: 200;\">\n",
    "        250 14th Street, NW<br/>\n",
    "        Atlanta, Georgia 30318\n",
    "        </a>\n",
    "    </div>\n",
    "</div>\n",
    "\n",
    "<hr/>"
   ]
  },
  {
   "cell_type": "markdown",
   "metadata": {},
   "source": [
    "<div class=\"row\">\n",
    "    <div class=\"col-md-9\">\n",
    "        <h2>Call for Participation</h2>\n",
    "    </div>\n",
    "    <div class=\"col-md-3\">\n",
    "        <a href=\"https://docs.google.com/forms/d/14Kq65Xt8tWrUSMZF4vpnIYR96Vgs-7uLludFPn87EFU/viewform\"\n",
    "            style=\"text-decoration: none;  font-weight: 200;\">\n",
    "        Open the form\n",
    "        </a>\n",
    "    </div>\n",
    "</div>\n",
    "\n",
    "---"
   ]
  },
  {
   "cell_type": "code",
   "execution_count": 85,
   "metadata": {
    "collapsed": false
   },
   "outputs": [
    {
     "data": {
      "text/html": [
       "\n",
       "        <iframe\n",
       "            width=\"100%\"\n",
       "            height=\"900\"\n",
       "            src=\"https://docs.google.com/forms/d/14Kq65Xt8tWrUSMZF4vpnIYR96Vgs-7uLludFPn87EFU/viewform\"\n",
       "            frameborder=\"0\"\n",
       "            allowfullscreen\n",
       "        ></iframe>\n",
       "        "
      ],
      "text/plain": [
       "<IPython.lib.display.IFrame at 0x10a1c6c50>"
      ]
     },
     "execution_count": 85,
     "metadata": {},
     "output_type": "execute_result"
    }
   ],
   "source": [
    "from IPython.display import IFrame\n",
    "IFrame(\"https://docs.google.com/forms/d/14Kq65Xt8tWrUSMZF4vpnIYR96Vgs-7uLludFPn87EFU/viewform\",width='100%',height=\"900\")"
   ]
  },
  {
   "cell_type": "markdown",
   "metadata": {},
   "source": [
    "## Sessions\n",
    "\n",
    "---\n",
    "\n",
    "<div class=\"row\">\n",
    "<div class=\"col col-md-4\">\n",
    "    <h3>Morning</h3>\n",
    "    <blockquote>\n",
    "        <ul>\n",
    "            <li>Panel Discussion</li>\n",
    "            <li>Highlight Talks</li>\n",
    "            <li>Case Studies</li>\n",
    "            </ul>\n",
    "    </blockquote>\n",
    "    </div>\n",
    "<div class=\"col col-md-4\">\n",
    "    <h3>Afternoon</h3>\n",
    "    <blockquote>\n",
    "        <ul>\n",
    "            <li>Workshops</li>\n",
    "            <li>Topics, Tools, &amp; Demos</li>\n",
    "            <li>Problems, Datasets &amp; Code</li>\n",
    "            </ul>\n",
    "        </blockquote>\n",
    "    </div>\n",
    "<div class=\"col col-md-4\">\n",
    "    <h3>Late Afternoon</h3>\n",
    "    <blockquote>\n",
    "        <ul>\n",
    "            <li>Lightning Talks</li>\n",
    "            <li>Town Hall</li>\n",
    "            </ul>\n",
    "        </blockquote>\n",
    "    </div>\n",
    "</div>"
   ]
  },
  {
   "cell_type": "markdown",
   "metadata": {
    "collapsed": true,
    "variables": {
     "info.abstract": {},
     "info.affiliation": {},
     "info.name": {},
     "info.title": {}
    }
   },
   "source": [
    "## Speakers\n",
    "\n",
    "---\n",
    "\n",
    "> Speaker information coming soon.\n",
    "\n",
    "{% comment %}\n",
    "{% for speakers in site.data.speakers %}\n",
    "    {% assign info=speakers[1] %}\n",
    "    \n",
    "### {{info.title}}\n",
    "\n",
    "~~speaker~~ __{{info.name}}__ :: __*{{info.affiliation}}*__\n",
    "\n",
    " {{info.abstract}}\n",
    "{% endfor %}\n",
    "{% endcomment %}"
   ]
  },
  {
   "cell_type": "markdown",
   "metadata": {},
   "source": [
    "## FAQ\n",
    "----\n",
    "\n",
    "<!--\n",
    "<div class=\"row\">\n",
    "{% for sponsor in site.data.sponsors %}\n",
    "<div class=\"col col-md-3 col-xs-5 {% if forloop.first %}{% else %} col-md-offset-1 col-xs-offset-1{% endif %}\">\n",
    "    <a href=\"{{sponsor.url}}\" title=\"{{sponsor.name}}\">\n",
    "        <img alt=\"{{sponsor.name}}\" src=\"{{sponsor.src}}\" width=\"100%\"/>\n",
    "    </a>\n",
    "</div>\n",
    "{% endfor %}\n",
    "</div>\n",
    "-->"
   ]
  },
  {
   "cell_type": "markdown",
   "metadata": {
    "variables": {
     "sponsor.name": {},
     "sponsor.src": {},
     "sponsor.url": {}
    }
   },
   "source": [
    "## Sponsors\n",
    "---\n",
    "\n",
    "<div class=\"row\">\n",
    "{% for sponsor in site.data.sponsors %}\n",
    "<div class=\"col col-md-3 col-xs-5 {% if forloop.first %}{% else %} col-md-offset-1 col-xs-offset-1{% endif %}\">\n",
    "    <a href=\"{{sponsor.url}}\" title=\"{{sponsor.name}}\">\n",
    "        <img alt=\"{{sponsor.name}}\" src=\"{{sponsor.src}}\" width=\"100%\"/>\n",
    "    </a>\n",
    "</div>\n",
    "{% endfor %}\n",
    "</div>"
   ]
  },
  {
   "cell_type": "code",
   "execution_count": 105,
   "metadata": {
    "collapsed": true
   },
   "outputs": [],
   "source": [
    "with open('index.html', 'w') as f: from nbconvert import export_html; f.write(\"\"\"---\\n---\\n\"\"\"+export_html('JupyterDay Atlanta.ipynb')[0])\n"
   ]
  },
  {
   "cell_type": "code",
   "execution_count": 49,
   "metadata": {
    "collapsed": false
   },
   "outputs": [
    {
     "data": {
      "application/javascript": [
       "$(document).ready(function(){\n",
       "    if (window.location.port != \"8888\"){\n",
       "        $('.code_cell .input').css('display','none');\n",
       "    };\n",
       "})"
      ],
      "text/plain": [
       "<IPython.core.display.Javascript object>"
      ]
     },
     "metadata": {},
     "output_type": "display_data"
    }
   ],
   "source": [
    "%%javascript\n",
    "$(document).ready(function(){\n",
    "    if (window.location.port != \"8888\"){\n",
    "        $('.code_cell .input').css('display','none');\n",
    "    };\n",
    "})"
   ]
  }
 ],
 "metadata": {
  "anaconda-cloud": {},
  "kernelspec": {
   "display_name": "Python [Root]",
   "language": "python",
   "name": "Python [Root]"
  },
  "language_info": {
   "codemirror_mode": {
    "name": "ipython",
    "version": 3
   },
   "file_extension": ".py",
   "mimetype": "text/x-python",
   "name": "python",
   "nbconvert_exporter": "python",
   "pygments_lexer": "ipython3",
   "version": "3.5.1"
  },
  "widgets": {
   "state": {},
   "version": "1.1.0"
  }
 },
 "nbformat": 4,
 "nbformat_minor": 0
}
